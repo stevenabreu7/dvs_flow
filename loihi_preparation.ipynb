{
 "cells": [
  {
   "cell_type": "code",
   "execution_count": 23,
   "metadata": {},
   "outputs": [],
   "source": [
    "import h5py\n",
    "import numpy as np\n",
    "import os\n",
    "import torch\n",
    "from torch.utils.data import DataLoader\n",
    "\n",
    "import lava.lib.dl.slayer as slayer\n",
    "from lava.lib.dl import netx\n",
    "\n",
    "from cytometrybin import BinCytometryDataset, BinCytometryNetwork"
   ]
  },
  {
   "attachments": {},
   "cell_type": "markdown",
   "metadata": {},
   "source": [
    "## run network to test"
   ]
  },
  {
   "cell_type": "code",
   "execution_count": 3,
   "metadata": {},
   "outputs": [],
   "source": [
    "data_folder = '../data/bin_1ms_comp_ds'\n",
    "trained_folder = 'logs/trained_fold4_nodelay_mar1'\n",
    "delay = False\n",
    "checkpoint_idx = 49\n",
    "checkpoint_name = f'net_{checkpoint_idx}.pt'\n",
    "net_filename = os.path.join(trained_folder, 'netx', f'net_{checkpoint_idx}.net')\n",
    "device = torch.device('cuda')"
   ]
  },
  {
   "cell_type": "code",
   "execution_count": 6,
   "metadata": {},
   "outputs": [
    {
     "data": {
      "text/plain": [
       "<All keys matched successfully>"
      ]
     },
     "execution_count": 6,
     "metadata": {},
     "output_type": "execute_result"
    }
   ],
   "source": [
    "net_slayer = BinCytometryNetwork(delay=delay).to(device)\n",
    "checkpoint = torch.load(os.path.join(trained_folder, 'checkpoints', checkpoint_name))\n",
    "net_slayer.load_state_dict(checkpoint)"
   ]
  },
  {
   "attachments": {},
   "cell_type": "markdown",
   "metadata": {},
   "source": [
    "Make sure the loaded SLAYER network performs well"
   ]
  },
  {
   "cell_type": "code",
   "execution_count": null,
   "metadata": {},
   "outputs": [
    {
     "name": "stdout",
     "output_type": "stream",
     "text": [
      "no test_fi given...\n"
     ]
    }
   ],
   "source": [
    "ds = BinCytometryDataset(data_folder=data_folder)\n",
    "dl = DataLoader(ds, batch_size=128, shuffle=True, num_workers=0)"
   ]
  },
  {
   "cell_type": "code",
   "execution_count": 7,
   "metadata": {},
   "outputs": [
    {
     "name": "stdout",
     "output_type": "stream",
     "text": [
      "inp.shape torch.Size([128, 1536, 1000]) ratio of classes: tensor(0.4922)\n"
     ]
    }
   ],
   "source": [
    "for i, (inp, lab) in enumerate(dl):\n",
    "    print('inp.shape', inp.shape, 'ratio of classes:', lab.sum()/lab.shape[0])\n",
    "    net_slayer.eval()\n",
    "    with torch.no_grad():\n",
    "        spikes, counts = net_slayer(inp.to(device))\n",
    "    break"
   ]
  },
  {
   "cell_type": "code",
   "execution_count": 9,
   "metadata": {},
   "outputs": [
    {
     "name": "stdout",
     "output_type": "stream",
     "text": [
      "torch.Size([128, 2, 1000]) torch.Size([3]) torch.Size([128])\n",
      "output spike rates:\n",
      "tensor([[0.0200, 0.0410, 0.0510, 0.0310, 0.0480],\n",
      "        [0.1170, 0.1570, 0.1690, 0.1530, 0.1510]])\n",
      "accuracy: 0.984375\n"
     ]
    }
   ],
   "source": [
    "spks = spikes.cpu().detach()\n",
    "cnts = counts.cpu().detach()\n",
    "print(spks.shape, cnts.shape, lab.shape)\n",
    "print('output spike rates:')\n",
    "print((spks.sum(axis=2) / 1000)[:5].T)\n",
    "print('accuracy:', (slayer.classifier.Rate.predict(spks) == lab).sum().item() / lab.shape[0])"
   ]
  },
  {
   "attachments": {},
   "cell_type": "markdown",
   "metadata": {},
   "source": [
    "Save network via h5py"
   ]
  },
  {
   "cell_type": "code",
   "execution_count": 13,
   "metadata": {},
   "outputs": [],
   "source": [
    "# now that we've confirmed the network is working, let's save it to a file\n",
    "net_slayer.export_hdf5('logs/working_network.net')"
   ]
  },
  {
   "attachments": {},
   "cell_type": "markdown",
   "metadata": {},
   "source": [
    "# Bug analysis \n",
    "\n",
    "WHAT COMES BELOW IS A BUG ANALYSIS - I pushed a PR to fix this in lava-dl.\n",
    "\n",
    "This is fixed in the Loihi cloud already, see `loihi_inference.ipynb` in this repository."
   ]
  },
  {
   "attachments": {},
   "cell_type": "markdown",
   "metadata": {},
   "source": [
    "Investigate network weights from h5py file directly"
   ]
  },
  {
   "cell_type": "code",
   "execution_count": 24,
   "metadata": {},
   "outputs": [
    {
     "name": "stdout",
     "output_type": "stream",
     "text": [
      "top left 3x3 of netx network weights:\n",
      "[[ -0.  10. -24.]\n",
      " [  0.  -0.  -0.]\n",
      " [-32.  40.  38.]]\n",
      "top left 3x3 of netx network weights:\n",
      "[[-1.2434849e-02  1.5916014e-01 -3.6128327e-01]\n",
      " [ 1.8655114e-03 -5.3635093e-05 -3.9743161e-04]\n",
      " [-5.1087338e-01  6.0952455e-01  5.9264773e-01]]\n"
     ]
    }
   ],
   "source": [
    "netfile = h5py.File('logs/working_network.net', 'r')\n",
    "print('top left 3x3 of netx network weights:')\n",
    "print(np.array(netfile['layer']['0']['weight'])[:3, :3])\n",
    "print('top left 3x3 of netx network weights:')\n",
    "print(net_slayer.blocks[0].synapse.weight.squeeze().detach().cpu().numpy()[:3, :3])"
   ]
  },
  {
   "cell_type": "markdown",
   "metadata": {},
   "source": [
    "Load network via h5py, then compare"
   ]
  },
  {
   "cell_type": "code",
   "execution_count": 25,
   "metadata": {},
   "outputs": [
    {
     "name": "stdout",
     "output_type": "stream",
     "text": [
      "|   Type   |  W  |  H  |  C  | ker | str | pad | dil | grp |delay|\n",
      "|Dense     |    1|    1|  512|     |     |     |     |     |False|\n",
      "|Dense     |    1|    1|  512|     |     |     |     |     |False|\n",
      "|Dense     |    1|    1|    2|     |     |     |     |     |False|\n"
     ]
    }
   ],
   "source": [
    "net_netx = netx.hdf5.Network('logs/working_network.net')\n",
    "print(net_netx)"
   ]
  },
  {
   "cell_type": "code",
   "execution_count": 29,
   "metadata": {},
   "outputs": [
    {
     "name": "stdout",
     "output_type": "stream",
     "text": [
      "top left 5x5 of netx config network weights:\n",
      "[[  0  10 -24   2   4]\n",
      " [  0   0   0   0   0]\n",
      " [-32  40  38  40 -26]\n",
      " [  0   0   0   0  -2]\n",
      " [  0   2   2   0   0]]\n",
      "top left 5x5 of netx loaded network weights:\n",
      "[[0 0 0 0 0]\n",
      " [0 0 0 0 0]\n",
      " [0 0 0 0 0]\n",
      " [0 0 0 0 0]\n",
      " [0 0 0 0 0]]\n"
     ]
    }
   ],
   "source": [
    "print('top left 5x5 of netx config network weights:')\n",
    "print(net_netx.net_config['layer'][0]['weight'][:5, :5])\n",
    "print('top left 5x5 of netx loaded network weights:')\n",
    "print(net_netx.layers[0].synapse.weights.init[:5, :5])"
   ]
  },
  {
   "cell_type": "code",
   "execution_count": 31,
   "metadata": {},
   "outputs": [
    {
     "name": "stdout",
     "output_type": "stream",
     "text": [
      "0 -3713256\n",
      "-2257818 -2257818\n",
      "-960 -60\n"
     ]
    }
   ],
   "source": [
    "for i in range(3):\n",
    "    print(net_netx.layers[i].synapse.weights.init.sum(), end=' ')\n",
    "    print(net_netx.net_config['layer'][i]['weight'].sum())"
   ]
  },
  {
   "cell_type": "code",
   "execution_count": 35,
   "metadata": {},
   "outputs": [
    {
     "name": "stdout",
     "output_type": "stream",
     "text": [
      "Dense Process_1 (512,) \tsum of weights: 0\n",
      "Dense Process_4 (512,) \tsum of weights: -2257818\n",
      "Dense Process_7 (2,) \tsum of weights: -960\n"
     ]
    }
   ],
   "source": [
    "for l in net_netx.layers:\n",
    "    print(l.__class__.__name__, l.name, l.shape, '\\tsum of weights:', l.synapse.weights.init.sum())"
   ]
  }
 ],
 "metadata": {
  "kernelspec": {
   "display_name": "dvsflow",
   "language": "python",
   "name": "python3"
  },
  "language_info": {
   "codemirror_mode": {
    "name": "ipython",
    "version": 3
   },
   "file_extension": ".py",
   "mimetype": "text/x-python",
   "name": "python",
   "nbconvert_exporter": "python",
   "pygments_lexer": "ipython3",
   "version": "3.10.9"
  },
  "orig_nbformat": 4,
  "vscode": {
   "interpreter": {
    "hash": "c205903518a6b2b927394c4307ce9e25709035f7bdde4eb5082c9964fe6e5041"
   }
  }
 },
 "nbformat": 4,
 "nbformat_minor": 2
}
